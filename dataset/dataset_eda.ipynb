{
  "nbformat": 4,
  "nbformat_minor": 0,
  "metadata": {
    "colab": {
      "name": "dataset_eda.ipynb",
      "provenance": [],
      "collapsed_sections": [],
      "authorship_tag": "ABX9TyN0o4a27ZfSKKT3pcLMSQV1",
      "include_colab_link": true
    },
    "kernelspec": {
      "name": "python3",
      "display_name": "Python 3"
    }
  },
  "cells": [
    {
      "cell_type": "markdown",
      "metadata": {
        "id": "view-in-github",
        "colab_type": "text"
      },
      "source": [
        "<a href=\"https://colab.research.google.com/github/rjanuzi/master_degree/blob/master/dataset/dataset_eda.ipynb\" target=\"_parent\"><img src=\"https://colab.research.google.com/assets/colab-badge.svg\" alt=\"Open In Colab\"/></a>"
      ]
    },
    {
      "cell_type": "markdown",
      "metadata": {
        "id": "mtVvqjmahHuP",
        "colab_type": "text"
      },
      "source": [
        "# **Loading libs and dataset**"
      ]
    },
    {
      "cell_type": "code",
      "metadata": {
        "id": "cdaqnWOoWFgG",
        "colab_type": "code",
        "colab": {}
      },
      "source": [
        "import pandas as pd\n",
        "import matplotlib as plt"
      ],
      "execution_count": 1,
      "outputs": []
    },
    {
      "cell_type": "code",
      "metadata": {
        "id": "hoXLY4L1jNx-",
        "colab_type": "code",
        "colab": {}
      },
      "source": [
        "dataset_idx = pd.read_csv(r'https://raw.githubusercontent.com/rjanuzi/master_degree/master/dataset/RAW_IMGS/dataset_index.csv', sep=';')"
      ],
      "execution_count": 2,
      "outputs": []
    },
    {
      "cell_type": "markdown",
      "metadata": {
        "id": "AZv493aQhjMY",
        "colab_type": "text"
      },
      "source": [
        "# **Data overview**"
      ]
    },
    {
      "cell_type": "code",
      "metadata": {
        "id": "M-Nlb4olpygw",
        "colab_type": "code",
        "colab": {
          "base_uri": "https://localhost:8080/",
          "height": 34
        },
        "outputId": "243e0cd1-3ae5-4ace-a4fd-9ed7b5809056"
      },
      "source": [
        "# Dataset size\n",
        "dataset_idx.shape"
      ],
      "execution_count": 3,
      "outputs": [
        {
          "output_type": "execute_result",
          "data": {
            "text/plain": [
              "(23906, 13)"
            ]
          },
          "metadata": {
            "tags": []
          },
          "execution_count": 3
        }
      ]
    },
    {
      "cell_type": "code",
      "metadata": {
        "id": "i8rkPHThj5zR",
        "colab_type": "code",
        "colab": {
          "base_uri": "https://localhost:8080/",
          "height": 195
        },
        "outputId": "f553ca90-3665-439b-dde3-a2ef6d91499f"
      },
      "source": [
        "# The 'id' and 'downloaded' cols are irrelevant to the analysis, so let's remove them\n",
        "dataset_idx.drop(columns=['id', 'downloaded'], inplace=True, errors='ignore')\n",
        "dataset_idx.head()"
      ],
      "execution_count": 4,
      "outputs": [
        {
          "output_type": "execute_result",
          "data": {
            "text/html": [
              "<div>\n",
              "<style scoped>\n",
              "    .dataframe tbody tr th:only-of-type {\n",
              "        vertical-align: middle;\n",
              "    }\n",
              "\n",
              "    .dataframe tbody tr th {\n",
              "        vertical-align: top;\n",
              "    }\n",
              "\n",
              "    .dataframe thead th {\n",
              "        text-align: right;\n",
              "    }\n",
              "</style>\n",
              "<table border=\"1\" class=\"dataframe\">\n",
              "  <thead>\n",
              "    <tr style=\"text-align: right;\">\n",
              "      <th></th>\n",
              "      <th>name</th>\n",
              "      <th>img_type</th>\n",
              "      <th>pixels_x</th>\n",
              "      <th>pixels_y</th>\n",
              "      <th>age</th>\n",
              "      <th>sex</th>\n",
              "      <th>body_location</th>\n",
              "      <th>benign_malignant</th>\n",
              "      <th>diagnosis</th>\n",
              "      <th>diagnosis_confirm_type</th>\n",
              "      <th>melanocytic</th>\n",
              "    </tr>\n",
              "  </thead>\n",
              "  <tbody>\n",
              "    <tr>\n",
              "      <th>0</th>\n",
              "      <td>ISIC_0000000</td>\n",
              "      <td>dermoscopic</td>\n",
              "      <td>1022</td>\n",
              "      <td>767</td>\n",
              "      <td>55.0</td>\n",
              "      <td>female</td>\n",
              "      <td>anterior torso</td>\n",
              "      <td>benign</td>\n",
              "      <td>nevus</td>\n",
              "      <td>NaN</td>\n",
              "      <td>True</td>\n",
              "    </tr>\n",
              "    <tr>\n",
              "      <th>1</th>\n",
              "      <td>ISIC_0000001</td>\n",
              "      <td>dermoscopic</td>\n",
              "      <td>1022</td>\n",
              "      <td>767</td>\n",
              "      <td>30.0</td>\n",
              "      <td>female</td>\n",
              "      <td>anterior torso</td>\n",
              "      <td>benign</td>\n",
              "      <td>nevus</td>\n",
              "      <td>NaN</td>\n",
              "      <td>True</td>\n",
              "    </tr>\n",
              "    <tr>\n",
              "      <th>2</th>\n",
              "      <td>ISIC_0000002</td>\n",
              "      <td>dermoscopic</td>\n",
              "      <td>1022</td>\n",
              "      <td>767</td>\n",
              "      <td>60.0</td>\n",
              "      <td>female</td>\n",
              "      <td>upper extremity</td>\n",
              "      <td>malignant</td>\n",
              "      <td>melanoma</td>\n",
              "      <td>histopathology</td>\n",
              "      <td>True</td>\n",
              "    </tr>\n",
              "    <tr>\n",
              "      <th>3</th>\n",
              "      <td>ISIC_0000003</td>\n",
              "      <td>dermoscopic</td>\n",
              "      <td>1022</td>\n",
              "      <td>767</td>\n",
              "      <td>30.0</td>\n",
              "      <td>male</td>\n",
              "      <td>upper extremity</td>\n",
              "      <td>benign</td>\n",
              "      <td>nevus</td>\n",
              "      <td>NaN</td>\n",
              "      <td>True</td>\n",
              "    </tr>\n",
              "    <tr>\n",
              "      <th>4</th>\n",
              "      <td>ISIC_0000004</td>\n",
              "      <td>dermoscopic</td>\n",
              "      <td>1022</td>\n",
              "      <td>767</td>\n",
              "      <td>80.0</td>\n",
              "      <td>male</td>\n",
              "      <td>posterior torso</td>\n",
              "      <td>malignant</td>\n",
              "      <td>melanoma</td>\n",
              "      <td>histopathology</td>\n",
              "      <td>True</td>\n",
              "    </tr>\n",
              "  </tbody>\n",
              "</table>\n",
              "</div>"
            ],
            "text/plain": [
              "           name     img_type  ...  diagnosis_confirm_type  melanocytic\n",
              "0  ISIC_0000000  dermoscopic  ...                     NaN         True\n",
              "1  ISIC_0000001  dermoscopic  ...                     NaN         True\n",
              "2  ISIC_0000002  dermoscopic  ...          histopathology         True\n",
              "3  ISIC_0000003  dermoscopic  ...                     NaN         True\n",
              "4  ISIC_0000004  dermoscopic  ...          histopathology         True\n",
              "\n",
              "[5 rows x 11 columns]"
            ]
          },
          "metadata": {
            "tags": []
          },
          "execution_count": 4
        }
      ]
    },
    {
      "cell_type": "markdown",
      "metadata": {
        "id": "1NF451w-oGPX",
        "colab_type": "text"
      },
      "source": [
        "**Numerical data columns description:**\n",
        "*   pixels_x: The image width (in pixels).\n",
        "*   pixels_y: The image height (in pixels).\n",
        "*   age: The patient age when the lesion image was collected.\n",
        "\n"
      ]
    },
    {
      "cell_type": "code",
      "metadata": {
        "id": "MezkyQHRnkCm",
        "colab_type": "code",
        "colab": {
          "base_uri": "https://localhost:8080/",
          "height": 297
        },
        "outputId": "9149ee37-a7af-4ebb-87d8-908cf797d366"
      },
      "source": [
        "# Summary of the numerical columns\n",
        "dataset_idx.describe()"
      ],
      "execution_count": null,
      "outputs": [
        {
          "output_type": "execute_result",
          "data": {
            "text/html": [
              "<div>\n",
              "<style scoped>\n",
              "    .dataframe tbody tr th:only-of-type {\n",
              "        vertical-align: middle;\n",
              "    }\n",
              "\n",
              "    .dataframe tbody tr th {\n",
              "        vertical-align: top;\n",
              "    }\n",
              "\n",
              "    .dataframe thead th {\n",
              "        text-align: right;\n",
              "    }\n",
              "</style>\n",
              "<table border=\"1\" class=\"dataframe\">\n",
              "  <thead>\n",
              "    <tr style=\"text-align: right;\">\n",
              "      <th></th>\n",
              "      <th>pixels_x</th>\n",
              "      <th>pixels_y</th>\n",
              "      <th>age</th>\n",
              "    </tr>\n",
              "  </thead>\n",
              "  <tbody>\n",
              "    <tr>\n",
              "      <th>count</th>\n",
              "      <td>23906.000000</td>\n",
              "      <td>23906.000000</td>\n",
              "      <td>23496.000000</td>\n",
              "    </tr>\n",
              "    <tr>\n",
              "      <th>mean</th>\n",
              "      <td>2120.987284</td>\n",
              "      <td>1444.231197</td>\n",
              "      <td>37.419348</td>\n",
              "    </tr>\n",
              "    <tr>\n",
              "      <th>std</th>\n",
              "      <td>1651.290711</td>\n",
              "      <td>1076.870694</td>\n",
              "      <td>23.269745</td>\n",
              "    </tr>\n",
              "    <tr>\n",
              "      <th>min</th>\n",
              "      <td>576.000000</td>\n",
              "      <td>450.000000</td>\n",
              "      <td>0.000000</td>\n",
              "    </tr>\n",
              "    <tr>\n",
              "      <th>25%</th>\n",
              "      <td>600.000000</td>\n",
              "      <td>450.000000</td>\n",
              "      <td>15.000000</td>\n",
              "    </tr>\n",
              "    <tr>\n",
              "      <th>50%</th>\n",
              "      <td>1936.000000</td>\n",
              "      <td>1450.000000</td>\n",
              "      <td>35.000000</td>\n",
              "    </tr>\n",
              "    <tr>\n",
              "      <th>75%</th>\n",
              "      <td>3024.000000</td>\n",
              "      <td>2016.000000</td>\n",
              "      <td>55.000000</td>\n",
              "    </tr>\n",
              "    <tr>\n",
              "      <th>max</th>\n",
              "      <td>6780.000000</td>\n",
              "      <td>6688.000000</td>\n",
              "      <td>85.000000</td>\n",
              "    </tr>\n",
              "  </tbody>\n",
              "</table>\n",
              "</div>"
            ],
            "text/plain": [
              "           pixels_x      pixels_y           age\n",
              "count  23906.000000  23906.000000  23496.000000\n",
              "mean    2120.987284   1444.231197     37.419348\n",
              "std     1651.290711   1076.870694     23.269745\n",
              "min      576.000000    450.000000      0.000000\n",
              "25%      600.000000    450.000000     15.000000\n",
              "50%     1936.000000   1450.000000     35.000000\n",
              "75%     3024.000000   2016.000000     55.000000\n",
              "max     6780.000000   6688.000000     85.000000"
            ]
          },
          "metadata": {
            "tags": []
          },
          "execution_count": 47
        }
      ]
    },
    {
      "cell_type": "markdown",
      "metadata": {
        "id": "nXHs4cz1qSt2",
        "colab_type": "text"
      },
      "source": [
        "**Categorical data columns description:**\n",
        "*   **name**: The image name in the original dataset.\n",
        "*   **img_type**: The technique used to collect the image.\n",
        "> *   **dermoscopic**: Collected with a dermatoscope.\n",
        "> *   **clinical**: Collected used a regular camera.\n",
        "*   **sex**: Patient sex.\n",
        "*   **body_location**: The lesion location in the patient body.\n",
        "*   **benign_malignant**: Indicate if the lesion was classified as benign or malignant.\n",
        "> *   **benign**: Lesion that do not offers major health risks to the patient.\n",
        "> *   **malignant**: Lesion that offers major health risks to the patient and shall be removed as soon as possible.\n",
        "> *   **indeterminate/benign**: Probably a benign lesion, but have not been confirmed by laboratory exams.\n",
        "> *   **indeterminate/malignant**: Probably a malignant lesion, but have not been confirmed by laboratory exams.\n",
        "*   **diagnosis**: The diagnosis of the lesion type.\n",
        "> *   **melanoma**: Most dangerous skin lesion\n",
        "> *   **nevus**: Commom mole.\n",
        "> *   The dataset have a series of others diagnosis, but at the moment the focus is at the melanoma classification.\n",
        "\n",
        "*   **diagnosis_confirm_type**: The diagnosis method used.\n",
        "> *   **histopathology**: Consists on cutting a thin slice of the lesion to realize the tissue analysis using a microscopic.\n",
        "> *   **single image expert consensus**: Consists on a experts consensus based on a single image sample.\n",
        "> *   **serial imaging showing no change**: Consists on compare the evolution of the lesion with a time spaced images sequence.\n",
        "> *   **confocal microscopy with consensus dermoscopy**: Microscopic imaging technique.\n",
        "> *   **nan**: Unknow Confirmation type.\n",
        "\n",
        "*   **melanocytic**: If the lesion is or not melanocytic (boolean values). A lesion is melanocytic when it is located in melanocyte cells. \n",
        "\n",
        "\n"
      ]
    },
    {
      "cell_type": "code",
      "metadata": {
        "id": "7ie-RxpTqLMX",
        "colab_type": "code",
        "colab": {
          "base_uri": "https://localhost:8080/",
          "height": 34
        },
        "outputId": "969b5fcb-b6f8-48a9-f898-2b4073bec82c"
      },
      "source": [
        "dataset_idx.img_type.unique()"
      ],
      "execution_count": 5,
      "outputs": [
        {
          "output_type": "execute_result",
          "data": {
            "text/plain": [
              "array(['dermoscopic', nan, 'clinical'], dtype=object)"
            ]
          },
          "metadata": {
            "tags": []
          },
          "execution_count": 5
        }
      ]
    },
    {
      "cell_type": "code",
      "metadata": {
        "id": "sUcXHcOFsm-i",
        "colab_type": "code",
        "colab": {
          "base_uri": "https://localhost:8080/",
          "height": 68
        },
        "outputId": "03a5ba78-f999-4e53-e5eb-f31896a23433"
      },
      "source": [
        "dataset_idx.body_location.unique()"
      ],
      "execution_count": null,
      "outputs": [
        {
          "output_type": "execute_result",
          "data": {
            "text/plain": [
              "array(['anterior torso', 'upper extremity', 'posterior torso',\n",
              "       'lower extremity', nan, 'lateral torso', 'palms/soles',\n",
              "       'head/neck'], dtype=object)"
            ]
          },
          "metadata": {
            "tags": []
          },
          "execution_count": 49
        }
      ]
    },
    {
      "cell_type": "code",
      "metadata": {
        "id": "9gM_BIyMszNA",
        "colab_type": "code",
        "colab": {
          "base_uri": "https://localhost:8080/",
          "height": 51
        },
        "outputId": "1ea3e1c7-9fb9-4464-eb51-4746fc88774d"
      },
      "source": [
        "dataset_idx.benign_malignant.unique()"
      ],
      "execution_count": null,
      "outputs": [
        {
          "output_type": "execute_result",
          "data": {
            "text/plain": [
              "array(['benign', 'malignant', 'indeterminate', nan,\n",
              "       'indeterminate/benign', 'indeterminate/malignant'], dtype=object)"
            ]
          },
          "metadata": {
            "tags": []
          },
          "execution_count": 50
        }
      ]
    },
    {
      "cell_type": "code",
      "metadata": {
        "id": "-C5K-PH4uQ0Y",
        "colab_type": "code",
        "colab": {
          "base_uri": "https://localhost:8080/",
          "height": 134
        },
        "outputId": "93e19c1b-cbe3-4836-f8dc-9f72caa64302"
      },
      "source": [
        "dataset_idx.diagnosis.unique()"
      ],
      "execution_count": 6,
      "outputs": [
        {
          "output_type": "execute_result",
          "data": {
            "text/plain": [
              "array(['nevus', 'melanoma', nan, 'seborrheic keratosis',\n",
              "       'lichenoid keratosis', 'dermatofibroma', 'angioma',\n",
              "       'basal cell carcinoma', 'solar lentigo', 'lentigo NOS',\n",
              "       'atypical melanocytic proliferation', 'lentigo simplex',\n",
              "       'actinic keratosis', 'other', 'angiofibroma or fibrous papule',\n",
              "       'squamous cell carcinoma', 'scar', 'pigmented benign keratosis',\n",
              "       'vascular lesion'], dtype=object)"
            ]
          },
          "metadata": {
            "tags": []
          },
          "execution_count": 6
        }
      ]
    },
    {
      "cell_type": "code",
      "metadata": {
        "id": "CXgEUwf8upvN",
        "colab_type": "code",
        "colab": {
          "base_uri": "https://localhost:8080/",
          "height": 67
        },
        "outputId": "53289068-c806-4b0f-dac5-b42bd0decadf"
      },
      "source": [
        "dataset_idx.diagnosis_confirm_type.unique()"
      ],
      "execution_count": 7,
      "outputs": [
        {
          "output_type": "execute_result",
          "data": {
            "text/plain": [
              "array([nan, 'histopathology', 'single image expert consensus',\n",
              "       'serial imaging showing no change',\n",
              "       'confocal microscopy with consensus dermoscopy'], dtype=object)"
            ]
          },
          "metadata": {
            "tags": []
          },
          "execution_count": 7
        }
      ]
    },
    {
      "cell_type": "code",
      "metadata": {
        "id": "CVu6DzhxvFDJ",
        "colab_type": "code",
        "colab": {
          "base_uri": "https://localhost:8080/",
          "height": 34
        },
        "outputId": "6b836dfe-4b3c-4dea-a0e9-db48617c3484"
      },
      "source": [
        "dataset_idx.melanocytic.unique()"
      ],
      "execution_count": null,
      "outputs": [
        {
          "output_type": "execute_result",
          "data": {
            "text/plain": [
              "array([True, nan, False], dtype=object)"
            ]
          },
          "metadata": {
            "tags": []
          },
          "execution_count": 53
        }
      ]
    },
    {
      "cell_type": "markdown",
      "metadata": {
        "id": "vwBdSl27vltm",
        "colab_type": "text"
      },
      "source": [
        "# **Img Types Plots**"
      ]
    },
    {
      "cell_type": "code",
      "metadata": {
        "id": "TxNB9RirvuJ0",
        "colab_type": "code",
        "colab": {
          "base_uri": "https://localhost:8080/",
          "height": 319
        },
        "outputId": "a538e0d1-6e2e-469a-b408-d6fa84cda4ae"
      },
      "source": [
        "dataset_idx['img_type'].value_counts().plot.bar()"
      ],
      "execution_count": 14,
      "outputs": [
        {
          "output_type": "display_data",
          "data": {
            "image/png": "[encoded data removed]",
            "text/plain": [
              "<Figure size 432x288 with 1 Axes>"
            ]
          },
          "metadata": {
            "tags": [],
            "needs_background": "light"
          }
        }
      ]
    },
    {
      "cell_type": "markdown",
      "metadata": {
        "id": "H1Iiui06vfUf",
        "colab_type": "text"
      },
      "source": [
        "# **Image Sizes Plots**"
      ]
    },
    {
      "cell_type": "code",
      "metadata": {
        "id": "NwA1NrJ6vkRr",
        "colab_type": "code",
        "colab": {
          "base_uri": "https://localhost:8080/",
          "height": 335
        },
        "outputId": "e3d99fae-1a03-4ad1-f471-a3af209d9932"
      },
      "source": [
        "# Generate a new column concatening the pixels_x and piexels_y columns\n",
        "dataset_idx['width_height'] = dataset_idx[['pixels_x', 'pixels_y']].apply(lambda row: ' x '.join(row.values.astype(str)), axis=1)\n",
        "pix_size_count = dataset_idx['width_height'].value_counts()\n",
        "pix_size_count[pix_size_count > 40].plot.bar()"
      ],
      "execution_count": 48,
      "outputs": [
        {
          "output_type": "execute_result",
          "data": {
            "text/plain": [
              "<matplotlib.axes._subplots.AxesSubplot at 0x7f792d6da7b8>"
            ]
          },
          "metadata": {
            "tags": []
          },
          "execution_count": 48
        },
        {
          "output_type": "display_data",
          "data": {
            "image/png": "[encoded data removed]",
            "text/plain": [
              "<Figure size 432x288 with 1 Axes>"
            ]
          },
          "metadata": {
            "tags": [],
            "needs_background": "light"
          }
        }
      ]
    },
    {
      "cell_type": "markdown",
      "metadata": {
        "id": "Ao6Tiz2ovviY",
        "colab_type": "text"
      },
      "source": [
        "# **Benign/Malignant Plots**"
      ]
    },
    {
      "cell_type": "code",
      "metadata": {
        "id": "rg0hxBSQv2eD",
        "colab_type": "code",
        "colab": {
          "base_uri": "https://localhost:8080/",
          "height": 397
        },
        "outputId": "ed743406-52a4-41a5-91d7-1ae9e866afc3"
      },
      "source": [
        "dataset_idx['benign_malignant'].value_counts().plot.bar()"
      ],
      "execution_count": 54,
      "outputs": [
        {
          "output_type": "execute_result",
          "data": {
            "text/plain": [
              "<matplotlib.axes._subplots.AxesSubplot at 0x7f792c325898>"
            ]
          },
          "metadata": {
            "tags": []
          },
          "execution_count": 54
        },
        {
          "output_type": "display_data",
          "data": {
            "image/png": "[encoded data removed]",
            "text/plain": [
              "<Figure size 432x288 with 1 Axes>"
            ]
          },
          "metadata": {
            "tags": [],
            "needs_background": "light"
          }
        }
      ]
    },
    {
      "cell_type": "markdown",
      "metadata": {
        "id": "VjXWGjISv4s6",
        "colab_type": "text"
      },
      "source": [
        "# **Diagnosis Plots**"
      ]
    },
    {
      "cell_type": "code",
      "metadata": {
        "id": "S8yzxBIyv-Ix",
        "colab_type": "code",
        "colab": {
          "base_uri": "https://localhost:8080/",
          "height": 412
        },
        "outputId": "4f0e7cdf-f439-4f98-b36d-05c3ef7b47d1"
      },
      "source": [
        "dataset_idx['diagnosis'].value_counts()[dataset_idx['diagnosis'].value_counts() > 100].plot.bar()"
      ],
      "execution_count": 62,
      "outputs": [
        {
          "output_type": "execute_result",
          "data": {
            "text/plain": [
              "<matplotlib.axes._subplots.AxesSubplot at 0x7f7928024208>"
            ]
          },
          "metadata": {
            "tags": []
          },
          "execution_count": 62
        },
        {
          "output_type": "display_data",
          "data": {
            "image/png": "[encoded data removed]",
            "text/plain": [
              "<Figure size 432x288 with 1 Axes>"
            ]
          },
          "metadata": {
            "tags": [],
            "needs_background": "light"
          }
        }
      ]
    },
    {
      "cell_type": "markdown",
      "metadata": {
        "id": "8AS7PU26u8ZZ",
        "colab_type": "text"
      },
      "source": [
        "# **Confirmation Type Plots**"
      ]
    },
    {
      "cell_type": "code",
      "metadata": {
        "id": "gzkHFlrUu6x-",
        "colab_type": "code",
        "colab": {
          "base_uri": "https://localhost:8080/",
          "height": 518
        },
        "outputId": "4f565bb8-c7b7-4ac4-9c31-26b750b492eb"
      },
      "source": [
        "dataset_idx['diagnosis_confirm_type'].dropna().value_counts().plot.bar()"
      ],
      "execution_count": 69,
      "outputs": [
        {
          "output_type": "execute_result",
          "data": {
            "text/plain": [
              "<matplotlib.axes._subplots.AxesSubplot at 0x7f7926f2e898>"
            ]
          },
          "metadata": {
            "tags": []
          },
          "execution_count": 69
        },
        {
          "output_type": "display_data",
          "data": {
            "image/png": "[encoded data removed]",
            "text/plain": [
              "<Figure size 432x288 with 1 Axes>"
            ]
          },
          "metadata": {
            "tags": [],
            "needs_background": "light"
          }
        }
      ]
    }
  ]
}