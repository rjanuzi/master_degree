{
  "nbformat": 4,
  "nbformat_minor": 0,
  "metadata": {
    "colab": {
      "name": "dataset_eda.ipynb",
      "provenance": [],
      "collapsed_sections": [],
      "authorship_tag": "ABX9TyPSweA1DXUCV9hw0zpSbwWh",
      "include_colab_link": true
    },
    "kernelspec": {
      "name": "python3",
      "display_name": "Python 3"
    }
  },
  "cells": [
    {
      "cell_type": "markdown",
      "metadata": {
        "id": "view-in-github",
        "colab_type": "text"
      },
      "source": [
        "<a href=\"https://colab.research.google.com/github/rjanuzi/master_degree/blob/master/dataset/dataset_eda.ipynb\" target=\"_parent\"><img src=\"https://colab.research.google.com/assets/colab-badge.svg\" alt=\"Open In Colab\"/></a>"
      ]
    },
    {
      "cell_type": "markdown",
      "metadata": {
        "id": "mtVvqjmahHuP",
        "colab_type": "text"
      },
      "source": [
        "# **Loading libs and dataset**"
      ]
    },
    {
      "cell_type": "code",
      "metadata": {
        "id": "cdaqnWOoWFgG",
        "colab_type": "code",
        "colab": {}
      },
      "source": [
        "import pandas as pd\n",
        "import matplotlib as plt"
      ],
      "execution_count": 10,
      "outputs": []
    },
    {
      "cell_type": "code",
      "metadata": {
        "id": "hoXLY4L1jNx-",
        "colab_type": "code",
        "colab": {}
      },
      "source": [
        "dataset_idx = pd.read_csv(r'https://raw.githubusercontent.com/rjanuzi/master_degree/master/dataset/RAW_IMGS/dataset_index.csv', sep=';')"
      ],
      "execution_count": 12,
      "outputs": []
    },
    {
      "cell_type": "markdown",
      "metadata": {
        "id": "AZv493aQhjMY",
        "colab_type": "text"
      },
      "source": [
        "# **Data overview**"
      ]
    },
    {
      "cell_type": "code",
      "metadata": {
        "id": "M-Nlb4olpygw",
        "colab_type": "code",
        "colab": {}
      },
      "source": [
        "# Dataset size\n",
        "dataset_idx.shape"
      ],
      "execution_count": null,
      "outputs": []
    },
    {
      "cell_type": "code",
      "metadata": {
        "id": "i8rkPHThj5zR",
        "colab_type": "code",
        "colab": {}
      },
      "source": [
        "# The 'id' and 'downloaded' cols are irrelevant to the analysis, so let's remove them\n",
        "dataset_idx.drop(columns=['id', 'downloaded'], inplace=True, errors='ignore')\n",
        "dataset_idx.head()"
      ],
      "execution_count": null,
      "outputs": []
    },
    {
      "cell_type": "markdown",
      "metadata": {
        "id": "1NF451w-oGPX",
        "colab_type": "text"
      },
      "source": [
        "**Numerical data columns description:**\n",
        "*   pixels_x: The image width (in pixels).\n",
        "*   pixels_y: The image height (in pixels).\n",
        "*   age: The patient age when the lesion image was collected.\n",
        "\n"
      ]
    },
    {
      "cell_type": "code",
      "metadata": {
        "id": "MezkyQHRnkCm",
        "colab_type": "code",
        "colab": {}
      },
      "source": [
        "# Summary of the numerical columns\n",
        "dataset_idx.describe()"
      ],
      "execution_count": null,
      "outputs": []
    },
    {
      "cell_type": "markdown",
      "metadata": {
        "id": "nXHs4cz1qSt2",
        "colab_type": "text"
      },
      "source": [
        "**Categorical data columns description:**\n",
        "*   **name**: The image name in the original dataset.\n",
        "*   **img_type**: The technique used to collect the image.\n",
        "> *   **dermoscopic**: Collected with a dermatoscope.\n",
        "> *   **clinical**: TODO - Check.\n",
        "*   **sex**: Patient sex.\n",
        "*   **body_location**: The lesion location in the patient body.\n",
        "*   **benign_malignant**: Indicate if the lesion was classified as benign or malignant.\n",
        "> *   **benign**: Lesion that do not offers major health risks to the patient.\n",
        "> *   **malignant**: Lesion that offers major health risks to the patient and shall be removed as soon as possible.\n",
        "> *   **indeterminate/benign**: Probably a benign lesion, but have not been confirmed by laboratory exams.\n",
        "> *   **indeterminate/malignant**: Probably a malignant lesion, but have not been confirmed by laboratory exams.\n",
        "*   **diagnosis**: The diagnosis of the lesion type.\n",
        "> *   **nevus**: ...\n",
        "> *   **melanoma**: ...\n",
        "> *   **...**\n",
        "*   **diagnosis_confirm_type**: The diagnosis method used.\n",
        "> *   **histopathology**: ...\n",
        "> *   **...**\n",
        "*   **melanocytic**: If the lesion is or not melanocytic (boolean values). TODO - Add more details\n",
        "\n",
        "\n"
      ]
    },
    {
      "cell_type": "code",
      "metadata": {
        "id": "7ie-RxpTqLMX",
        "colab_type": "code",
        "colab": {}
      },
      "source": [
        "dataset_idx.img_type.unique()"
      ],
      "execution_count": null,
      "outputs": []
    },
    {
      "cell_type": "code",
      "metadata": {
        "id": "sUcXHcOFsm-i",
        "colab_type": "code",
        "colab": {}
      },
      "source": [
        "dataset_idx.body_location.unique()"
      ],
      "execution_count": null,
      "outputs": []
    },
    {
      "cell_type": "code",
      "metadata": {
        "id": "9gM_BIyMszNA",
        "colab_type": "code",
        "colab": {}
      },
      "source": [
        "dataset_idx.benign_malignant.unique()"
      ],
      "execution_count": null,
      "outputs": []
    },
    {
      "cell_type": "code",
      "metadata": {
        "id": "-C5K-PH4uQ0Y",
        "colab_type": "code",
        "colab": {}
      },
      "source": [
        "dataset_idx.diagnosis.unique()"
      ],
      "execution_count": null,
      "outputs": []
    },
    {
      "cell_type": "code",
      "metadata": {
        "id": "CXgEUwf8upvN",
        "colab_type": "code",
        "colab": {}
      },
      "source": [
        "dataset_idx.diagnosis_confirm_type.unique()"
      ],
      "execution_count": null,
      "outputs": []
    },
    {
      "cell_type": "code",
      "metadata": {
        "id": "CVu6DzhxvFDJ",
        "colab_type": "code",
        "colab": {}
      },
      "source": [
        "dataset_idx.melanocytic.unique()"
      ],
      "execution_count": null,
      "outputs": []
    },
    {
      "cell_type": "markdown",
      "metadata": {
        "id": "vwBdSl27vltm",
        "colab_type": "text"
      },
      "source": [
        "# **Img Types Plots**"
      ]
    },
    {
      "cell_type": "code",
      "metadata": {
        "id": "TxNB9RirvuJ0",
        "colab_type": "code",
        "colab": {}
      },
      "source": [
        "# TODO"
      ],
      "execution_count": null,
      "outputs": []
    },
    {
      "cell_type": "markdown",
      "metadata": {
        "id": "H1Iiui06vfUf",
        "colab_type": "text"
      },
      "source": [
        "# **Image Sizes Plots**"
      ]
    },
    {
      "cell_type": "code",
      "metadata": {
        "id": "NwA1NrJ6vkRr",
        "colab_type": "code",
        "colab": {}
      },
      "source": [
        "# TODO"
      ],
      "execution_count": null,
      "outputs": []
    },
    {
      "cell_type": "markdown",
      "metadata": {
        "id": "Ao6Tiz2ovviY",
        "colab_type": "text"
      },
      "source": [
        "# **Benign/Malignant Plots**"
      ]
    },
    {
      "cell_type": "code",
      "metadata": {
        "id": "rg0hxBSQv2eD",
        "colab_type": "code",
        "colab": {}
      },
      "source": [
        "# TODO"
      ],
      "execution_count": null,
      "outputs": []
    },
    {
      "cell_type": "markdown",
      "metadata": {
        "id": "VjXWGjISv4s6",
        "colab_type": "text"
      },
      "source": [
        "# **Diagnosis Plots**"
      ]
    },
    {
      "cell_type": "code",
      "metadata": {
        "id": "S8yzxBIyv-Ix",
        "colab_type": "code",
        "colab": {}
      },
      "source": [
        "# TODO"
      ],
      "execution_count": null,
      "outputs": []
    }
  ]
}