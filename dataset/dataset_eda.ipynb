{
  "nbformat": 4,
  "nbformat_minor": 0,
  "metadata": {
    "colab": {
      "name": "dataset_eda.ipynb",
      "provenance": [],
      "collapsed_sections": [],
      "authorship_tag": "ABX9TyMmFWdsRaqiS8IvY8Zi08pO",
      "include_colab_link": true
    },
    "kernelspec": {
      "name": "python3",
      "display_name": "Python 3"
    }
  },
  "cells": [
    {
      "cell_type": "markdown",
      "metadata": {
        "id": "view-in-github",
        "colab_type": "text"
      },
      "source": [
        "<a href=\"https://colab.research.google.com/github/rjanuzi/master_degree/blob/master/dataset/dataset_eda.ipynb\" target=\"_parent\"><img src=\"https://colab.research.google.com/assets/colab-badge.svg\" alt=\"Open In Colab\"/></a>"
      ]
    },
    {
      "cell_type": "code",
      "metadata": {
        "id": "cdaqnWOoWFgG",
        "colab_type": "code",
        "colab": {
          "base_uri": "https://localhost:8080/",
          "height": 224
        },
        "outputId": "9d846a2d-494a-438c-fc02-2c8065969224"
      },
      "source": [
        "import pandas as pd\n",
        "\n",
        "dataset_idx = pd.read_csv(r'https://raw.githubusercontent.com/rjanuzi/master_degree/master/dataset/RAW_IMGS/dataset_index.csv', sep=';')\n",
        "\n",
        "dataset_idx.head()"
      ],
      "execution_count": null,
      "outputs": [
        {
          "output_type": "execute_result",
          "data": {
            "text/html": [
              "<div>\n",
              "<style scoped>\n",
              "    .dataframe tbody tr th:only-of-type {\n",
              "        vertical-align: middle;\n",
              "    }\n",
              "\n",
              "    .dataframe tbody tr th {\n",
              "        vertical-align: top;\n",
              "    }\n",
              "\n",
              "    .dataframe thead th {\n",
              "        text-align: right;\n",
              "    }\n",
              "</style>\n",
              "<table border=\"1\" class=\"dataframe\">\n",
              "  <thead>\n",
              "    <tr style=\"text-align: right;\">\n",
              "      <th></th>\n",
              "      <th>id</th>\n",
              "      <th>name</th>\n",
              "      <th>img_type</th>\n",
              "      <th>pixels_x</th>\n",
              "      <th>pixels_y</th>\n",
              "      <th>age</th>\n",
              "      <th>sex</th>\n",
              "      <th>body_location</th>\n",
              "      <th>benign_malignant</th>\n",
              "      <th>diagnosis</th>\n",
              "      <th>diagnosis_confirm_type</th>\n",
              "      <th>melanocytic</th>\n",
              "      <th>downloaded</th>\n",
              "    </tr>\n",
              "  </thead>\n",
              "  <tbody>\n",
              "    <tr>\n",
              "      <th>0</th>\n",
              "      <td>5436e3abbae478396759f0cf</td>\n",
              "      <td>ISIC_0000000</td>\n",
              "      <td>dermoscopic</td>\n",
              "      <td>1022</td>\n",
              "      <td>767</td>\n",
              "      <td>55.0</td>\n",
              "      <td>female</td>\n",
              "      <td>anterior torso</td>\n",
              "      <td>benign</td>\n",
              "      <td>nevus</td>\n",
              "      <td>NaN</td>\n",
              "      <td>True</td>\n",
              "      <td>True</td>\n",
              "    </tr>\n",
              "    <tr>\n",
              "      <th>1</th>\n",
              "      <td>5436e3acbae478396759f0d1</td>\n",
              "      <td>ISIC_0000001</td>\n",
              "      <td>dermoscopic</td>\n",
              "      <td>1022</td>\n",
              "      <td>767</td>\n",
              "      <td>30.0</td>\n",
              "      <td>female</td>\n",
              "      <td>anterior torso</td>\n",
              "      <td>benign</td>\n",
              "      <td>nevus</td>\n",
              "      <td>NaN</td>\n",
              "      <td>True</td>\n",
              "      <td>True</td>\n",
              "    </tr>\n",
              "    <tr>\n",
              "      <th>2</th>\n",
              "      <td>5436e3acbae478396759f0d3</td>\n",
              "      <td>ISIC_0000002</td>\n",
              "      <td>dermoscopic</td>\n",
              "      <td>1022</td>\n",
              "      <td>767</td>\n",
              "      <td>60.0</td>\n",
              "      <td>female</td>\n",
              "      <td>upper extremity</td>\n",
              "      <td>malignant</td>\n",
              "      <td>melanoma</td>\n",
              "      <td>histopathology</td>\n",
              "      <td>True</td>\n",
              "      <td>True</td>\n",
              "    </tr>\n",
              "    <tr>\n",
              "      <th>3</th>\n",
              "      <td>5436e3acbae478396759f0d5</td>\n",
              "      <td>ISIC_0000003</td>\n",
              "      <td>dermoscopic</td>\n",
              "      <td>1022</td>\n",
              "      <td>767</td>\n",
              "      <td>30.0</td>\n",
              "      <td>male</td>\n",
              "      <td>upper extremity</td>\n",
              "      <td>benign</td>\n",
              "      <td>nevus</td>\n",
              "      <td>NaN</td>\n",
              "      <td>True</td>\n",
              "      <td>True</td>\n",
              "    </tr>\n",
              "    <tr>\n",
              "      <th>4</th>\n",
              "      <td>5436e3acbae478396759f0d7</td>\n",
              "      <td>ISIC_0000004</td>\n",
              "      <td>dermoscopic</td>\n",
              "      <td>1022</td>\n",
              "      <td>767</td>\n",
              "      <td>80.0</td>\n",
              "      <td>male</td>\n",
              "      <td>posterior torso</td>\n",
              "      <td>malignant</td>\n",
              "      <td>melanoma</td>\n",
              "      <td>histopathology</td>\n",
              "      <td>True</td>\n",
              "      <td>True</td>\n",
              "    </tr>\n",
              "  </tbody>\n",
              "</table>\n",
              "</div>"
            ],
            "text/plain": [
              "                         id          name  ... melanocytic  downloaded\n",
              "0  5436e3abbae478396759f0cf  ISIC_0000000  ...        True        True\n",
              "1  5436e3acbae478396759f0d1  ISIC_0000001  ...        True        True\n",
              "2  5436e3acbae478396759f0d3  ISIC_0000002  ...        True        True\n",
              "3  5436e3acbae478396759f0d5  ISIC_0000003  ...        True        True\n",
              "4  5436e3acbae478396759f0d7  ISIC_0000004  ...        True        True\n",
              "\n",
              "[5 rows x 13 columns]"
            ]
          },
          "metadata": {
            "tags": []
          },
          "execution_count": 7
        }
      ]
    }
  ]
}